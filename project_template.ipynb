{
 "cells": [
  {
   "cell_type": "markdown",
   "metadata": {},
   "source": [
    "# Project Group - 32\n",
    "\n",
    "Members: Julia van Berkom, David Wolfrat, Tanja de Bruin, Mischa de Gooijer\n",
    "\n",
    "Student numbers: 4797116, 4912713, 6062687, 4836553"
   ]
  },
  {
   "cell_type": "markdown",
   "metadata": {},
   "source": [
    "# Research Objective\n",
    "\n",
    "*Requires data modeling and quantitative research in Transport, Infrastructure & Logistics*"
   ]
  },
  {
   "cell_type": "markdown",
   "metadata": {
    "collapsed": false
   },
   "source": [
    "Research Question: What is the impact of the two additional traintracks that are being built in Delft on the capacity of the route Rotterdam Centraal and Den Haag Hollands Spoor?"
   ]
  },
  {
   "cell_type": "markdown",
   "metadata": {
    "collapsed": false
   },
   "source": [
    "Research Objective: Find out what the impact is of the two additional traintracks that are being built in Delft on the capacity of the route Rotterdam Centraal and Den Haag Hollands Spoor by using data of the NS and ProRail to program a model."
   ]
  },
  {
   "cell_type": "markdown",
   "metadata": {
    "collapsed": false
   },
   "source": [
    "The plan is to try and model the current and future situation on the train route through Delft. To do this, the current situation will be analysed through the use of data on disruptions and delays. This is the data processing part of the project. Then we will build a simulation of the train route between Rotterdam Centraal and Den Haag HS. We will first check the accuracy of the simulation through the use of the real world data on the current situation. Then we will analyse the future situation. Finally, we can compare the future situation to the current situation.\n"
   ]
  },
  {
   "cell_type": "markdown",
   "metadata": {},
   "source": []
  },
  {
   "cell_type": "markdown",
   "metadata": {},
   "source": [
    "# Contribution Statement\n",
    "\n",
    "*Be specific. Some of the tasks can be coding (expect everyone to do this), background research, conceptualisation, visualisation, data analysis, data modelling*"
   ]
  },
  {
   "cell_type": "markdown",
   "metadata": {},
   "source": [
    "**Author 1**:\n",
    "\n",
    "**Author 2**:\n",
    "\n",
    "**Author 3**:"
   ]
  },
  {
   "cell_type": "markdown",
   "metadata": {},
   "source": [
    "# Data Used"
   ]
  },
  {
   "cell_type": "markdown",
   "metadata": {},
   "source": [
    "To do:\n",
    "-contribution statement invullen\n",
    "-move latex text to this notebook\n",
    "-Intro met situatieschetsen (motiveer de keuze voor onderwerp en motiveer waarom Panchamy dit wil lezen)\n",
    "-onderzoeksvraag\n",
    "-wat zijn de datasets en hoe komen we eraan\n",
    "-\"approach\": hoe gaan we de onderzoeksvraag beantwoorden?\n",
    "        -hoe gaan wij deze situaties in een code implementeren?\n",
    "-analyse van de resultaten, grafieken:\n",
    "        -de sporen met treintjes op bepaalde tijdsstappen\n",
    "        -grafieken van NS vertraging: zoom in op vertragingen die wij ook in ons model kunnen hebben (stilstaande trein, werk aan spoor) (taartgrafiek)\n",
    "        -uit ons 'oude' model blijkt inderdaad dat dit de vertraging is (getal)\n",
    "        -met het toevoegen van extra sporen is dit de vertraging (getal)\n",
    "        -met bar charts: gemiddelde toegestande duur reis, deze treinen gaan daarboven, deze treinen zijn wel op tijd, hieruit blijkt blabla\n",
    "        -hiermee is de capaciteit van treinen op spoor verhoogd van X naar y (bar chart)\n",
    "        -de capaciteit aan mensen is dan verhoogd van x naar y (bar chart)\n",
    "-conclusie\n",
    "-discussie and future recommendations\n"
   ]
  },
  {
   "cell_type": "markdown",
   "metadata": {},
   "source": [
    "# Data Pipeline"
   ]
  },
  {
   "cell_type": "markdown",
   "metadata": {},
   "source": []
  }
 ],
 "metadata": {
  "kernelspec": {
   "display_name": "Python 3",
   "language": "python",
   "name": "python3"
  },
  "language_info": {
   "name": "python",
   "version": "3.8.2"
  },
  "orig_nbformat": 4,
  "vscode": {
   "interpreter": {
    "hash": "31f2aee4e71d21fbe5cf8b01ff0e069b9275f58929596ceb00d14d90e3e16cd6"
   }
  }
 },
 "nbformat": 4,
 "nbformat_minor": 2
}
