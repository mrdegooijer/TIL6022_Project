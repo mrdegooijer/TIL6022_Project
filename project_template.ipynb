{
 "cells": [
  {
   "cell_type": "markdown",
   "metadata": {},
   "source": [
    "# Project Group - 32\n",
    "\n",
    "Members: Julia van Berkom, David Wolfrat, Tanja de Bruin, Mischa de Gooijer\n",
    "\n",
    "Student numbers: 4797116, 4912713, 6062687, 4836553"
   ]
  },
  {
   "cell_type": "markdown",
   "metadata": {},
   "source": [
    "# Research Objective\n",
    "\n",
    "*Requires data modeling and quantitative research in Transport, Infrastructure & Logistics*"
   ]
  },
  {
   "cell_type": "markdown",
   "metadata": {
    "collapsed": false
   },
   "source": [
    "Research Question: What is the impact of the two additional traintracks that are being built in Delft on the capacity of the route Rotterdam Centraal and Den Haag Hollands Spoor?"
   ]
  },
  {
   "cell_type": "markdown",
   "metadata": {
    "collapsed": false
   },
   "source": [
    "Research Objective: Find out what the impact is of the two additional traintracks that are being built in Delft on the capacity of the route Rotterdam Centraal and Den Haag Hollands Spoor by using data of the NS and ProRail to program a model."
   ]
  },
  {
   "cell_type": "markdown",
   "metadata": {
    "collapsed": false
   },
   "source": [
    "The plan is to try and model the current and future situation on the train route through Delft. To do this, the current situation will be analysed through the use of data on disruptions and delays. This is the data processing part of the project. Then we will build a simulation of the train route between Rotterdam Centraal and Den Haag HS. We will first check the accuracy of the simulation through the use of the real world data on the current situation. Then we will analyse the future situation. Finally, we can compare the future situation to the current situation.\n"
   ]
  },
  {
   "cell_type": "markdown",
   "metadata": {},
   "source": [
    "# Contribution Statement\n",
    "\n",
    "*Be specific. Some of the tasks can be coding (expect everyone to do this), background research, conceptualisation, visualisation, data analysis, data modelling*"
   ]
  },
  {
   "cell_type": "markdown",
   "metadata": {},
   "source": [
    "**Author 1**:\n",
    "\n",
    "**Author 2**:\n",
    "\n",
    "**Author 3**:"
   ]
  },
  {
   "cell_type": "markdown",
   "metadata": {},
   "source": [
    "# Data Used"
   ]
  },
  {
   "cell_type": "markdown",
   "metadata": {},
   "source": [
    "To do:\n",
    "-contribution statement invullen\n",
    "-move latex text to this notebook\n",
    "-Intro met situatieschetsen (motiveer de keuze voor onderwerp en motiveer waarom Panchamy dit wil lezen)\n",
    "-onderzoeksvraag\n",
    "-wat zijn de datasets en hoe komen we eraan\n",
    "-\"approach\": hoe gaan we de onderzoeksvraag beantwoorden?\n",
    "        -hoe gaan wij deze situaties in een code implementeren?\n",
    "-analyse van de resultaten, grafieken:\n",
    "        -de sporen met treintjes op bepaalde tijdsstappen\n",
    "        -grafieken van NS vertraging: zoom in op vertragingen die wij ook in ons model kunnen hebben (stilstaande trein, werk aan spoor) (taartgrafiek)\n",
    "        -uit ons 'oude' model blijkt inderdaad dat dit de vertraging is (getal)\n",
    "        -met het toevoegen van extra sporen is dit de vertraging (getal)\n",
    "        -met bar charts: gemiddelde toegestande duur reis, deze treinen gaan daarboven, deze treinen zijn wel op tijd, hieruit blijkt blabla\n",
    "        -hiermee is de capaciteit van treinen op spoor verhoogd van X naar y (bar chart)\n",
    "        -de capaciteit aan mensen is dan verhoogd van x naar y (bar chart)\n",
    "-conclusie\n",
    "-discussie and future recommendations\n"
   ]
  },
  {
   "cell_type": "markdown",
   "metadata": {},
   "source": [
    "# Introduction"
   ]
  },
  {
   "cell_type": "markdown",
   "metadata": {},
   "source": [
    "Since 2018 ProRail has been building additional train tracks between Rijswijk and Schiedam, to facilitate more capacity and less delay on this route from 2024 onward. In comparison with the current timetable, this project aims to show an optimized situation when the additional train tracks will be opened. Information used to evaluate the new rail system will be the capacity on the route between Den Haag Hollands Spoor and Rotterdam Central. Capacity will be based on the capacity on the tracks: the amount and type of trains able to use the track and the capacity for people wanting to use the route.\n",
    "\n",
    "\n",
    "To examine the research objective, a time period between 16.00 and 18.00 on a Thursday was selected and denoted the current timetable. This is the base situation for which a more optimal usage with two additional tracks is searched.\n",
    "\n",
    "Background for the model is the information given by ProRail on where the additional train tracks would be built. The NS provided the current timetable. From information provided by the NS it is derived that approximately 78.000 people make daily use of the train track between Den Haag Hollands Spoor and Rotterdam Central. About 18 per cent of daily travellers use the route during afternoon rush hour. Resulting in 14.040 passengers between 16.00 and 18.00. \n",
    "In this time period, the average amount of seated places in a sprinter is 496, and in an intercity the average amount of seated places is 800. The current total capacity on the route between 16.00 and 18.00 is 1.984 in sprinters and 9.600 in intercity trains, these are all seated places. Resulting in a shortage of 2.456 seated places on the route, assuming passengers will make no difference in taking a sprinter or intercity train. Which in reality will not be the case. \n",
    "\n",
    "\n",
    "The geographical distances between the stations and the location of the switches is used to model the network. This makes the model an accurate representation of the real-life scenario. And provides a solid basis for scenario 2 with the additional tracks.\n",
    "\n",
    "In both scenarios, the trains are modelled to depart at the times given in the timetable. The trains keep at least a minimum distance to the train before them. In scenario 2 the trains are not obligated to stick to their starting track and when a switch appears they will asses which track is the most beneficial for them. If it is more beneficial to use the track with fewer trains, the train will, when there is a gap, switch to the other track. There is no limit on how many times a train is allowed to switch tracks. At the locations where the double track becomes single track again, trains not on the main track will have to wait until there is enough space on the main track to fit, while still complying with the required safety distance.\n",
    "\n",
    "In essence, the significance of this modeling project lies in its ability to predict and analyze the utilization of the additional train tracks. By addressing the specific challenges of this busy route during peak hours, the model could serve as a tool for ProRail and other stakeholders to make informed decisions, ultimately leading to an enhanced commuter experience, improved capacity, and reduced delays."
   ]
  },
  {
   "cell_type": "markdown",
   "metadata": {},
   "source": [
    "# Data collection"
   ]
  }
 ],
 "metadata": {
  "kernelspec": {
   "display_name": "Python 3",
   "language": "python",
   "name": "python3"
  },
  "language_info": {
   "name": "python",
   "version": "3.8.2"
  },
  "orig_nbformat": 4,
  "vscode": {
   "interpreter": {
    "hash": "31f2aee4e71d21fbe5cf8b01ff0e069b9275f58929596ceb00d14d90e3e16cd6"
   }
  }
 },
 "nbformat": 4,
 "nbformat_minor": 2
}
